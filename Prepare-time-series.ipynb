{
 "cells": [
  {
   "cell_type": "code",
   "execution_count": 1,
   "metadata": {
    "collapsed": true
   },
   "outputs": [],
   "source": [
    "import pandas as pd\n",
    "from datetime import timedelta, datetime\n",
    "import numpy as np\n",
    "import matplotlib.pyplot as plt\n",
    "\n",
    "import warnings\n",
    "warnings.filterwarnings(\"ignore\")\n",
    "\n",
    "\n"
   ]
  },
  {
   "cell_type": "code",
   "execution_count": 2,
   "outputs": [],
   "source": [
    "df = pd.read_csv('tsa_store_data.csv')"
   ],
   "metadata": {
    "collapsed": false
   }
  },
  {
   "cell_type": "code",
   "execution_count": 3,
   "outputs": [
    {
     "data": {
      "text/plain": "        store_id  item_id   item_upc14   item_upc12 item_brand  \\\n0              1        1  35200264013  35200264013   Riceland   \n1              1        1  35200264013  35200264013   Riceland   \n2              1        1  35200264013  35200264013   Riceland   \n3              1        1  35200264013  35200264013   Riceland   \n4              1        1  35200264013  35200264013   Riceland   \n...          ...      ...          ...          ...        ...   \n912995        10       50  47445919221  47445919221     Choice   \n912996        10       50  47445919221  47445919221     Choice   \n912997        10       50  47445919221  47445919221     Choice   \n912998        10       50  47445919221  47445919221     Choice   \n912999        10       50  47445919221  47445919221     Choice   \n\n                                                item_name  item_price  \\\n0                          Riceland American Jazmine Rice        0.84   \n1                          Riceland American Jazmine Rice        0.84   \n2                          Riceland American Jazmine Rice        0.84   \n3                          Riceland American Jazmine Rice        0.84   \n4                          Riceland American Jazmine Rice        0.84   \n...                                                   ...         ...   \n912995  Choice Organic Teas Black Tea Classic Black - ...        5.20   \n912996  Choice Organic Teas Black Tea Classic Black - ...        5.20   \n912997  Choice Organic Teas Black Tea Classic Black - ...        5.20   \n912998  Choice Organic Teas Black Tea Classic Black - ...        5.20   \n912999  Choice Organic Teas Black Tea Classic Black - ...        5.20   \n\n        sale_id   sale_date  sale_amount           store_address  \\\n0             1  2013-01-01           13  12125 Alamo Ranch Pkwy   \n1             2  2013-01-02           11  12125 Alamo Ranch Pkwy   \n2             3  2013-01-03           14  12125 Alamo Ranch Pkwy   \n3             4  2013-01-04           13  12125 Alamo Ranch Pkwy   \n4             5  2013-01-05           10  12125 Alamo Ranch Pkwy   \n...         ...         ...          ...                     ...   \n912995   912996  2017-12-27           63    8503 NW Military Hwy   \n912996   912997  2017-12-28           59    8503 NW Military Hwy   \n912997   912998  2017-12-29           74    8503 NW Military Hwy   \n912998   912999  2017-12-30           62    8503 NW Military Hwy   \n912999   913000  2017-12-31           82    8503 NW Military Hwy   \n\n        store_zipcode   store_city store_state  \n0               78253  San Antonio          TX  \n1               78253  San Antonio          TX  \n2               78253  San Antonio          TX  \n3               78253  San Antonio          TX  \n4               78253  San Antonio          TX  \n...               ...          ...         ...  \n912995          78231  San Antonio          TX  \n912996          78231  San Antonio          TX  \n912997          78231  San Antonio          TX  \n912998          78231  San Antonio          TX  \n912999          78231  San Antonio          TX  \n\n[913000 rows x 14 columns]",
      "text/html": "<div>\n<style scoped>\n    .dataframe tbody tr th:only-of-type {\n        vertical-align: middle;\n    }\n\n    .dataframe tbody tr th {\n        vertical-align: top;\n    }\n\n    .dataframe thead th {\n        text-align: right;\n    }\n</style>\n<table border=\"1\" class=\"dataframe\">\n  <thead>\n    <tr style=\"text-align: right;\">\n      <th></th>\n      <th>store_id</th>\n      <th>item_id</th>\n      <th>item_upc14</th>\n      <th>item_upc12</th>\n      <th>item_brand</th>\n      <th>item_name</th>\n      <th>item_price</th>\n      <th>sale_id</th>\n      <th>sale_date</th>\n      <th>sale_amount</th>\n      <th>store_address</th>\n      <th>store_zipcode</th>\n      <th>store_city</th>\n      <th>store_state</th>\n    </tr>\n  </thead>\n  <tbody>\n    <tr>\n      <th>0</th>\n      <td>1</td>\n      <td>1</td>\n      <td>35200264013</td>\n      <td>35200264013</td>\n      <td>Riceland</td>\n      <td>Riceland American Jazmine Rice</td>\n      <td>0.84</td>\n      <td>1</td>\n      <td>2013-01-01</td>\n      <td>13</td>\n      <td>12125 Alamo Ranch Pkwy</td>\n      <td>78253</td>\n      <td>San Antonio</td>\n      <td>TX</td>\n    </tr>\n    <tr>\n      <th>1</th>\n      <td>1</td>\n      <td>1</td>\n      <td>35200264013</td>\n      <td>35200264013</td>\n      <td>Riceland</td>\n      <td>Riceland American Jazmine Rice</td>\n      <td>0.84</td>\n      <td>2</td>\n      <td>2013-01-02</td>\n      <td>11</td>\n      <td>12125 Alamo Ranch Pkwy</td>\n      <td>78253</td>\n      <td>San Antonio</td>\n      <td>TX</td>\n    </tr>\n    <tr>\n      <th>2</th>\n      <td>1</td>\n      <td>1</td>\n      <td>35200264013</td>\n      <td>35200264013</td>\n      <td>Riceland</td>\n      <td>Riceland American Jazmine Rice</td>\n      <td>0.84</td>\n      <td>3</td>\n      <td>2013-01-03</td>\n      <td>14</td>\n      <td>12125 Alamo Ranch Pkwy</td>\n      <td>78253</td>\n      <td>San Antonio</td>\n      <td>TX</td>\n    </tr>\n    <tr>\n      <th>3</th>\n      <td>1</td>\n      <td>1</td>\n      <td>35200264013</td>\n      <td>35200264013</td>\n      <td>Riceland</td>\n      <td>Riceland American Jazmine Rice</td>\n      <td>0.84</td>\n      <td>4</td>\n      <td>2013-01-04</td>\n      <td>13</td>\n      <td>12125 Alamo Ranch Pkwy</td>\n      <td>78253</td>\n      <td>San Antonio</td>\n      <td>TX</td>\n    </tr>\n    <tr>\n      <th>4</th>\n      <td>1</td>\n      <td>1</td>\n      <td>35200264013</td>\n      <td>35200264013</td>\n      <td>Riceland</td>\n      <td>Riceland American Jazmine Rice</td>\n      <td>0.84</td>\n      <td>5</td>\n      <td>2013-01-05</td>\n      <td>10</td>\n      <td>12125 Alamo Ranch Pkwy</td>\n      <td>78253</td>\n      <td>San Antonio</td>\n      <td>TX</td>\n    </tr>\n    <tr>\n      <th>...</th>\n      <td>...</td>\n      <td>...</td>\n      <td>...</td>\n      <td>...</td>\n      <td>...</td>\n      <td>...</td>\n      <td>...</td>\n      <td>...</td>\n      <td>...</td>\n      <td>...</td>\n      <td>...</td>\n      <td>...</td>\n      <td>...</td>\n      <td>...</td>\n    </tr>\n    <tr>\n      <th>912995</th>\n      <td>10</td>\n      <td>50</td>\n      <td>47445919221</td>\n      <td>47445919221</td>\n      <td>Choice</td>\n      <td>Choice Organic Teas Black Tea Classic Black - ...</td>\n      <td>5.20</td>\n      <td>912996</td>\n      <td>2017-12-27</td>\n      <td>63</td>\n      <td>8503 NW Military Hwy</td>\n      <td>78231</td>\n      <td>San Antonio</td>\n      <td>TX</td>\n    </tr>\n    <tr>\n      <th>912996</th>\n      <td>10</td>\n      <td>50</td>\n      <td>47445919221</td>\n      <td>47445919221</td>\n      <td>Choice</td>\n      <td>Choice Organic Teas Black Tea Classic Black - ...</td>\n      <td>5.20</td>\n      <td>912997</td>\n      <td>2017-12-28</td>\n      <td>59</td>\n      <td>8503 NW Military Hwy</td>\n      <td>78231</td>\n      <td>San Antonio</td>\n      <td>TX</td>\n    </tr>\n    <tr>\n      <th>912997</th>\n      <td>10</td>\n      <td>50</td>\n      <td>47445919221</td>\n      <td>47445919221</td>\n      <td>Choice</td>\n      <td>Choice Organic Teas Black Tea Classic Black - ...</td>\n      <td>5.20</td>\n      <td>912998</td>\n      <td>2017-12-29</td>\n      <td>74</td>\n      <td>8503 NW Military Hwy</td>\n      <td>78231</td>\n      <td>San Antonio</td>\n      <td>TX</td>\n    </tr>\n    <tr>\n      <th>912998</th>\n      <td>10</td>\n      <td>50</td>\n      <td>47445919221</td>\n      <td>47445919221</td>\n      <td>Choice</td>\n      <td>Choice Organic Teas Black Tea Classic Black - ...</td>\n      <td>5.20</td>\n      <td>912999</td>\n      <td>2017-12-30</td>\n      <td>62</td>\n      <td>8503 NW Military Hwy</td>\n      <td>78231</td>\n      <td>San Antonio</td>\n      <td>TX</td>\n    </tr>\n    <tr>\n      <th>912999</th>\n      <td>10</td>\n      <td>50</td>\n      <td>47445919221</td>\n      <td>47445919221</td>\n      <td>Choice</td>\n      <td>Choice Organic Teas Black Tea Classic Black - ...</td>\n      <td>5.20</td>\n      <td>913000</td>\n      <td>2017-12-31</td>\n      <td>82</td>\n      <td>8503 NW Military Hwy</td>\n      <td>78231</td>\n      <td>San Antonio</td>\n      <td>TX</td>\n    </tr>\n  </tbody>\n</table>\n<p>913000 rows × 14 columns</p>\n</div>"
     },
     "execution_count": 3,
     "metadata": {},
     "output_type": "execute_result"
    }
   ],
   "source": [
    "df"
   ],
   "metadata": {
    "collapsed": false
   }
  },
  {
   "cell_type": "code",
   "execution_count": 4,
   "outputs": [],
   "source": [
    "df.sale_date = pd.to_datetime(df.sale_date)\n",
    "# Sort rows by the date and then set the index as that date\n",
    "df['month'] = df.sale_date.dt.month\n",
    "df['day'] = df.sale_date.dt.day\n",
    "df = df.set_index(\"sale_date\").sort_index()\n"
   ],
   "metadata": {
    "collapsed": false
   }
  },
  {
   "cell_type": "code",
   "execution_count": 5,
   "outputs": [
    {
     "data": {
      "text/plain": "            store_id  item_id    item_upc14    item_upc12          item_brand  \\\nsale_date                                                                       \n2013-01-01         1        1   35200264013   35200264013            Riceland   \n2013-01-01         3       17   88313590791   88313590791               Ducal   \n2013-01-01        10        7   70177154004   70177154004  Twinings Of London   \n2013-01-01         3       18   21200725340   21200725340              Scotch   \n2013-01-01         3       19   41520035646   41520035646             Careone   \n...              ...      ...           ...           ...                 ...   \n2017-12-31         7       39   28400029254   28400029254            Munchies   \n2017-12-31         7       40   42272008063   42272008063                Amys   \n2017-12-31         7       41   31000670016   31000670016         P.f. Changs   \n2017-12-31         7       28  719175900007  719175900007        Usda Produce   \n2017-12-31        10       50   47445919221   47445919221              Choice   \n\n                                                    item_name  item_price  \\\nsale_date                                                                   \n2013-01-01                     Riceland American Jazmine Rice        0.84   \n2013-01-01                            Ducal Refried Red Beans        1.16   \n2013-01-01  Twinings Of London Classics Lady Grey Tea - 20 Ct        9.64   \n2013-01-01    Scotch Removable Clear Mounting Squares - 35 Ct        4.39   \n2013-01-01                     Careone Family Comb Set - 8 Ct        0.74   \n...                                                       ...         ...   \n2017-12-31  Munchies Sandwich Crackers Cheddar Cheese On G...        9.02   \n2017-12-31               Amys Light & Lean Spaghetti Italiano        0.60   \n2017-12-31  P.f. Changs Home Menu Meal For Two Beef With B...        5.62   \n2017-12-31                                              Guava        7.52   \n2017-12-31  Choice Organic Teas Black Tea Classic Black - ...        5.20   \n\n            sale_id  sale_amount            store_address  store_zipcode  \\\nsale_date                                                                  \n2013-01-01        1           13   12125 Alamo Ranch Pkwy          78253   \n2013-01-01   295813           26  2118 Fredericksburg Rdj          78201   \n2013-01-01   125995           32     8503 NW Military Hwy          78231   \n2013-01-01   314073           45  2118 Fredericksburg Rdj          78201   \n2013-01-01   332333           34  2118 Fredericksburg Rdj          78201   \n...             ...          ...                      ...            ...   \n2017-12-31   706662           31   12018 Perrin Beitel Rd          78217   \n2017-12-31   724922           22   12018 Perrin Beitel Rd          78217   \n2017-12-31   743182           19   12018 Perrin Beitel Rd          78217   \n2017-12-31   505802           59   12018 Perrin Beitel Rd          78217   \n2017-12-31   913000           82     8503 NW Military Hwy          78231   \n\n             store_city store_state  month  day  \nsale_date                                        \n2013-01-01  San Antonio          TX      1    1  \n2013-01-01  San Antonio          TX      1    1  \n2013-01-01  San Antonio          TX      1    1  \n2013-01-01  San Antonio          TX      1    1  \n2013-01-01  San Antonio          TX      1    1  \n...                 ...         ...    ...  ...  \n2017-12-31  San Antonio          TX     12   31  \n2017-12-31  San Antonio          TX     12   31  \n2017-12-31  San Antonio          TX     12   31  \n2017-12-31  San Antonio          TX     12   31  \n2017-12-31  San Antonio          TX     12   31  \n\n[913000 rows x 15 columns]",
      "text/html": "<div>\n<style scoped>\n    .dataframe tbody tr th:only-of-type {\n        vertical-align: middle;\n    }\n\n    .dataframe tbody tr th {\n        vertical-align: top;\n    }\n\n    .dataframe thead th {\n        text-align: right;\n    }\n</style>\n<table border=\"1\" class=\"dataframe\">\n  <thead>\n    <tr style=\"text-align: right;\">\n      <th></th>\n      <th>store_id</th>\n      <th>item_id</th>\n      <th>item_upc14</th>\n      <th>item_upc12</th>\n      <th>item_brand</th>\n      <th>item_name</th>\n      <th>item_price</th>\n      <th>sale_id</th>\n      <th>sale_amount</th>\n      <th>store_address</th>\n      <th>store_zipcode</th>\n      <th>store_city</th>\n      <th>store_state</th>\n      <th>month</th>\n      <th>day</th>\n    </tr>\n    <tr>\n      <th>sale_date</th>\n      <th></th>\n      <th></th>\n      <th></th>\n      <th></th>\n      <th></th>\n      <th></th>\n      <th></th>\n      <th></th>\n      <th></th>\n      <th></th>\n      <th></th>\n      <th></th>\n      <th></th>\n      <th></th>\n      <th></th>\n    </tr>\n  </thead>\n  <tbody>\n    <tr>\n      <th>2013-01-01</th>\n      <td>1</td>\n      <td>1</td>\n      <td>35200264013</td>\n      <td>35200264013</td>\n      <td>Riceland</td>\n      <td>Riceland American Jazmine Rice</td>\n      <td>0.84</td>\n      <td>1</td>\n      <td>13</td>\n      <td>12125 Alamo Ranch Pkwy</td>\n      <td>78253</td>\n      <td>San Antonio</td>\n      <td>TX</td>\n      <td>1</td>\n      <td>1</td>\n    </tr>\n    <tr>\n      <th>2013-01-01</th>\n      <td>3</td>\n      <td>17</td>\n      <td>88313590791</td>\n      <td>88313590791</td>\n      <td>Ducal</td>\n      <td>Ducal Refried Red Beans</td>\n      <td>1.16</td>\n      <td>295813</td>\n      <td>26</td>\n      <td>2118 Fredericksburg Rdj</td>\n      <td>78201</td>\n      <td>San Antonio</td>\n      <td>TX</td>\n      <td>1</td>\n      <td>1</td>\n    </tr>\n    <tr>\n      <th>2013-01-01</th>\n      <td>10</td>\n      <td>7</td>\n      <td>70177154004</td>\n      <td>70177154004</td>\n      <td>Twinings Of London</td>\n      <td>Twinings Of London Classics Lady Grey Tea - 20 Ct</td>\n      <td>9.64</td>\n      <td>125995</td>\n      <td>32</td>\n      <td>8503 NW Military Hwy</td>\n      <td>78231</td>\n      <td>San Antonio</td>\n      <td>TX</td>\n      <td>1</td>\n      <td>1</td>\n    </tr>\n    <tr>\n      <th>2013-01-01</th>\n      <td>3</td>\n      <td>18</td>\n      <td>21200725340</td>\n      <td>21200725340</td>\n      <td>Scotch</td>\n      <td>Scotch Removable Clear Mounting Squares - 35 Ct</td>\n      <td>4.39</td>\n      <td>314073</td>\n      <td>45</td>\n      <td>2118 Fredericksburg Rdj</td>\n      <td>78201</td>\n      <td>San Antonio</td>\n      <td>TX</td>\n      <td>1</td>\n      <td>1</td>\n    </tr>\n    <tr>\n      <th>2013-01-01</th>\n      <td>3</td>\n      <td>19</td>\n      <td>41520035646</td>\n      <td>41520035646</td>\n      <td>Careone</td>\n      <td>Careone Family Comb Set - 8 Ct</td>\n      <td>0.74</td>\n      <td>332333</td>\n      <td>34</td>\n      <td>2118 Fredericksburg Rdj</td>\n      <td>78201</td>\n      <td>San Antonio</td>\n      <td>TX</td>\n      <td>1</td>\n      <td>1</td>\n    </tr>\n    <tr>\n      <th>...</th>\n      <td>...</td>\n      <td>...</td>\n      <td>...</td>\n      <td>...</td>\n      <td>...</td>\n      <td>...</td>\n      <td>...</td>\n      <td>...</td>\n      <td>...</td>\n      <td>...</td>\n      <td>...</td>\n      <td>...</td>\n      <td>...</td>\n      <td>...</td>\n      <td>...</td>\n    </tr>\n    <tr>\n      <th>2017-12-31</th>\n      <td>7</td>\n      <td>39</td>\n      <td>28400029254</td>\n      <td>28400029254</td>\n      <td>Munchies</td>\n      <td>Munchies Sandwich Crackers Cheddar Cheese On G...</td>\n      <td>9.02</td>\n      <td>706662</td>\n      <td>31</td>\n      <td>12018 Perrin Beitel Rd</td>\n      <td>78217</td>\n      <td>San Antonio</td>\n      <td>TX</td>\n      <td>12</td>\n      <td>31</td>\n    </tr>\n    <tr>\n      <th>2017-12-31</th>\n      <td>7</td>\n      <td>40</td>\n      <td>42272008063</td>\n      <td>42272008063</td>\n      <td>Amys</td>\n      <td>Amys Light &amp; Lean Spaghetti Italiano</td>\n      <td>0.60</td>\n      <td>724922</td>\n      <td>22</td>\n      <td>12018 Perrin Beitel Rd</td>\n      <td>78217</td>\n      <td>San Antonio</td>\n      <td>TX</td>\n      <td>12</td>\n      <td>31</td>\n    </tr>\n    <tr>\n      <th>2017-12-31</th>\n      <td>7</td>\n      <td>41</td>\n      <td>31000670016</td>\n      <td>31000670016</td>\n      <td>P.f. Changs</td>\n      <td>P.f. Changs Home Menu Meal For Two Beef With B...</td>\n      <td>5.62</td>\n      <td>743182</td>\n      <td>19</td>\n      <td>12018 Perrin Beitel Rd</td>\n      <td>78217</td>\n      <td>San Antonio</td>\n      <td>TX</td>\n      <td>12</td>\n      <td>31</td>\n    </tr>\n    <tr>\n      <th>2017-12-31</th>\n      <td>7</td>\n      <td>28</td>\n      <td>719175900007</td>\n      <td>719175900007</td>\n      <td>Usda Produce</td>\n      <td>Guava</td>\n      <td>7.52</td>\n      <td>505802</td>\n      <td>59</td>\n      <td>12018 Perrin Beitel Rd</td>\n      <td>78217</td>\n      <td>San Antonio</td>\n      <td>TX</td>\n      <td>12</td>\n      <td>31</td>\n    </tr>\n    <tr>\n      <th>2017-12-31</th>\n      <td>10</td>\n      <td>50</td>\n      <td>47445919221</td>\n      <td>47445919221</td>\n      <td>Choice</td>\n      <td>Choice Organic Teas Black Tea Classic Black - ...</td>\n      <td>5.20</td>\n      <td>913000</td>\n      <td>82</td>\n      <td>8503 NW Military Hwy</td>\n      <td>78231</td>\n      <td>San Antonio</td>\n      <td>TX</td>\n      <td>12</td>\n      <td>31</td>\n    </tr>\n  </tbody>\n</table>\n<p>913000 rows × 15 columns</p>\n</div>"
     },
     "execution_count": 5,
     "metadata": {},
     "output_type": "execute_result"
    }
   ],
   "source": [
    "df"
   ],
   "metadata": {
    "collapsed": false
   }
  },
  {
   "cell_type": "code",
   "execution_count": 6,
   "outputs": [
    {
     "data": {
      "text/plain": "<AxesSubplot:xlabel='sale_date'>"
     },
     "execution_count": 6,
     "metadata": {},
     "output_type": "execute_result"
    },
    {
     "data": {
      "text/plain": "<Figure size 432x288 with 1 Axes>",
      "image/png": "[encoded data removed]"
     },
     "metadata": {
      "needs_background": "light"
     },
     "output_type": "display_data"
    }
   ],
   "source": [
    "df_sale_amount = df.sale_amount\n",
    "df_sale_amount.plot()"
   ],
   "metadata": {
    "collapsed": false
   }
  },
  {
   "cell_type": "code",
   "execution_count": 7,
   "outputs": [
    {
     "data": {
      "text/plain": "<AxesSubplot:>"
     },
     "execution_count": 7,
     "metadata": {},
     "output_type": "execute_result"
    },
    {
     "data": {
      "text/plain": "<Figure size 432x288 with 1 Axes>",
      "image/png": "[encoded data removed]"
     },
     "metadata": {
      "needs_background": "light"
     },
     "output_type": "display_data"
    }
   ],
   "source": [
    "df_item_price = df.item_price\n",
    "df_item_price.hist()"
   ],
   "metadata": {
    "collapsed": false
   }
  },
  {
   "cell_type": "code",
   "execution_count": 9,
   "outputs": [],
   "source": [
    "df['sales_total'] = df.sale_amount * df.item_price"
   ],
   "metadata": {
    "collapsed": false
   }
  },
  {
   "cell_type": "code",
   "execution_count": 12,
   "outputs": [],
   "source": [
    "url = 'https://raw.githubusercontent.com/jenfly/opsd/master/opsd_germany_daily.csv'"
   ],
   "metadata": {
    "collapsed": false
   }
  },
  {
   "cell_type": "code",
   "execution_count": 14,
   "outputs": [],
   "source": [
    "df2 = pd.read_csv(url)"
   ],
   "metadata": {
    "collapsed": false
   }
  },
  {
   "cell_type": "code",
   "execution_count": 15,
   "outputs": [],
   "source": [
    "df2.to_csv('power_data')"
   ],
   "metadata": {
    "collapsed": false
   }
  },
  {
   "cell_type": "code",
   "execution_count": 16,
   "outputs": [
    {
     "data": {
      "text/plain": "            Date  Consumption     Wind   Solar  Wind+Solar\n0     2006-01-01   1069.18400      NaN     NaN         NaN\n1     2006-01-02   1380.52100      NaN     NaN         NaN\n2     2006-01-03   1442.53300      NaN     NaN         NaN\n3     2006-01-04   1457.21700      NaN     NaN         NaN\n4     2006-01-05   1477.13100      NaN     NaN         NaN\n...          ...          ...      ...     ...         ...\n4378  2017-12-27   1263.94091  394.507  16.530     411.037\n4379  2017-12-28   1299.86398  506.424  14.162     520.586\n4380  2017-12-29   1295.08753  584.277  29.854     614.131\n4381  2017-12-30   1215.44897  721.247   7.467     728.714\n4382  2017-12-31   1107.11488  721.176  19.980     741.156\n\n[4383 rows x 5 columns]",
      "text/html": "<div>\n<style scoped>\n    .dataframe tbody tr th:only-of-type {\n        vertical-align: middle;\n    }\n\n    .dataframe tbody tr th {\n        vertical-align: top;\n    }\n\n    .dataframe thead th {\n        text-align: right;\n    }\n</style>\n<table border=\"1\" class=\"dataframe\">\n  <thead>\n    <tr style=\"text-align: right;\">\n      <th></th>\n      <th>Date</th>\n      <th>Consumption</th>\n      <th>Wind</th>\n      <th>Solar</th>\n      <th>Wind+Solar</th>\n    </tr>\n  </thead>\n  <tbody>\n    <tr>\n      <th>0</th>\n      <td>2006-01-01</td>\n      <td>1069.18400</td>\n      <td>NaN</td>\n      <td>NaN</td>\n      <td>NaN</td>\n    </tr>\n    <tr>\n      <th>1</th>\n      <td>2006-01-02</td>\n      <td>1380.52100</td>\n      <td>NaN</td>\n      <td>NaN</td>\n      <td>NaN</td>\n    </tr>\n    <tr>\n      <th>2</th>\n      <td>2006-01-03</td>\n      <td>1442.53300</td>\n      <td>NaN</td>\n      <td>NaN</td>\n      <td>NaN</td>\n    </tr>\n    <tr>\n      <th>3</th>\n      <td>2006-01-04</td>\n      <td>1457.21700</td>\n      <td>NaN</td>\n      <td>NaN</td>\n      <td>NaN</td>\n    </tr>\n    <tr>\n      <th>4</th>\n      <td>2006-01-05</td>\n      <td>1477.13100</td>\n      <td>NaN</td>\n      <td>NaN</td>\n      <td>NaN</td>\n    </tr>\n    <tr>\n      <th>...</th>\n      <td>...</td>\n      <td>...</td>\n      <td>...</td>\n      <td>...</td>\n      <td>...</td>\n    </tr>\n    <tr>\n      <th>4378</th>\n      <td>2017-12-27</td>\n      <td>1263.94091</td>\n      <td>394.507</td>\n      <td>16.530</td>\n      <td>411.037</td>\n    </tr>\n    <tr>\n      <th>4379</th>\n      <td>2017-12-28</td>\n      <td>1299.86398</td>\n      <td>506.424</td>\n      <td>14.162</td>\n      <td>520.586</td>\n    </tr>\n    <tr>\n      <th>4380</th>\n      <td>2017-12-29</td>\n      <td>1295.08753</td>\n      <td>584.277</td>\n      <td>29.854</td>\n      <td>614.131</td>\n    </tr>\n    <tr>\n      <th>4381</th>\n      <td>2017-12-30</td>\n      <td>1215.44897</td>\n      <td>721.247</td>\n      <td>7.467</td>\n      <td>728.714</td>\n    </tr>\n    <tr>\n      <th>4382</th>\n      <td>2017-12-31</td>\n      <td>1107.11488</td>\n      <td>721.176</td>\n      <td>19.980</td>\n      <td>741.156</td>\n    </tr>\n  </tbody>\n</table>\n<p>4383 rows × 5 columns</p>\n</div>"
     },
     "execution_count": 16,
     "metadata": {},
     "output_type": "execute_result"
    }
   ],
   "source": [
    "df2"
   ],
   "metadata": {
    "collapsed": false
   }
  },
  {
   "cell_type": "code",
   "execution_count": 22,
   "outputs": [],
   "source": [
    "df2.Date = pd.to_datetime(df2.Date)\n",
    "df['month'] = df2.Date.dt.month\n",
    "df['year'] = df2.Date.dt.year\n",
    "df2 = df2.set_index(\"Date\").sort_index()\n"
   ],
   "metadata": {
    "collapsed": false
   }
  },
  {
   "cell_type": "code",
   "execution_count": 23,
   "outputs": [
    {
     "data": {
      "text/plain": "            Consumption     Wind   Solar  Wind+Solar\nDate                                                \n2006-01-01   1069.18400      NaN     NaN         NaN\n2006-01-02   1380.52100      NaN     NaN         NaN\n2006-01-03   1442.53300      NaN     NaN         NaN\n2006-01-04   1457.21700      NaN     NaN         NaN\n2006-01-05   1477.13100      NaN     NaN         NaN\n...                 ...      ...     ...         ...\n2017-12-27   1263.94091  394.507  16.530     411.037\n2017-12-28   1299.86398  506.424  14.162     520.586\n2017-12-29   1295.08753  584.277  29.854     614.131\n2017-12-30   1215.44897  721.247   7.467     728.714\n2017-12-31   1107.11488  721.176  19.980     741.156\n\n[4383 rows x 4 columns]",
      "text/html": "<div>\n<style scoped>\n    .dataframe tbody tr th:only-of-type {\n        vertical-align: middle;\n    }\n\n    .dataframe tbody tr th {\n        vertical-align: top;\n    }\n\n    .dataframe thead th {\n        text-align: right;\n    }\n</style>\n<table border=\"1\" class=\"dataframe\">\n  <thead>\n    <tr style=\"text-align: right;\">\n      <th></th>\n      <th>Consumption</th>\n      <th>Wind</th>\n      <th>Solar</th>\n      <th>Wind+Solar</th>\n    </tr>\n    <tr>\n      <th>Date</th>\n      <th></th>\n      <th></th>\n      <th></th>\n      <th></th>\n    </tr>\n  </thead>\n  <tbody>\n    <tr>\n      <th>2006-01-01</th>\n      <td>1069.18400</td>\n      <td>NaN</td>\n      <td>NaN</td>\n      <td>NaN</td>\n    </tr>\n    <tr>\n      <th>2006-01-02</th>\n      <td>1380.52100</td>\n      <td>NaN</td>\n      <td>NaN</td>\n      <td>NaN</td>\n    </tr>\n    <tr>\n      <th>2006-01-03</th>\n      <td>1442.53300</td>\n      <td>NaN</td>\n      <td>NaN</td>\n      <td>NaN</td>\n    </tr>\n    <tr>\n      <th>2006-01-04</th>\n      <td>1457.21700</td>\n      <td>NaN</td>\n      <td>NaN</td>\n      <td>NaN</td>\n    </tr>\n    <tr>\n      <th>2006-01-05</th>\n      <td>1477.13100</td>\n      <td>NaN</td>\n      <td>NaN</td>\n      <td>NaN</td>\n    </tr>\n    <tr>\n      <th>...</th>\n      <td>...</td>\n      <td>...</td>\n      <td>...</td>\n      <td>...</td>\n    </tr>\n    <tr>\n      <th>2017-12-27</th>\n      <td>1263.94091</td>\n      <td>394.507</td>\n      <td>16.530</td>\n      <td>411.037</td>\n    </tr>\n    <tr>\n      <th>2017-12-28</th>\n      <td>1299.86398</td>\n      <td>506.424</td>\n      <td>14.162</td>\n      <td>520.586</td>\n    </tr>\n    <tr>\n      <th>2017-12-29</th>\n      <td>1295.08753</td>\n      <td>584.277</td>\n      <td>29.854</td>\n      <td>614.131</td>\n    </tr>\n    <tr>\n      <th>2017-12-30</th>\n      <td>1215.44897</td>\n      <td>721.247</td>\n      <td>7.467</td>\n      <td>728.714</td>\n    </tr>\n    <tr>\n      <th>2017-12-31</th>\n      <td>1107.11488</td>\n      <td>721.176</td>\n      <td>19.980</td>\n      <td>741.156</td>\n    </tr>\n  </tbody>\n</table>\n<p>4383 rows × 4 columns</p>\n</div>"
     },
     "execution_count": 23,
     "metadata": {},
     "output_type": "execute_result"
    }
   ],
   "source": [
    "df2"
   ],
   "metadata": {
    "collapsed": false
   }
  },
  {
   "cell_type": "code",
   "execution_count": 26,
   "outputs": [],
   "source": [
    "df2.Wind = df2.Wind.fillna(df2.Wind.mean())"
   ],
   "metadata": {
    "collapsed": false
   }
  },
  {
   "cell_type": "code",
   "execution_count": 25,
   "outputs": [],
   "source": [
    "df2.Solar = df2.Solar.fillna(df2.Solar.mean())"
   ],
   "metadata": {
    "collapsed": false
   }
  },
  {
   "cell_type": "code",
   "execution_count": 29,
   "outputs": [],
   "source": [
    "df2['Wind+Solar'] = df2['Wind+Solar'].fillna(df2.Wind + df2.Solar)"
   ],
   "metadata": {
    "collapsed": false
   }
  },
  {
   "cell_type": "code",
   "execution_count": 30,
   "outputs": [
    {
     "data": {
      "text/plain": "            Consumption        Wind      Solar  Wind+Solar\nDate                                                      \n2006-01-01   1069.18400  164.814173  89.258695  254.072867\n2006-01-02   1380.52100  164.814173  89.258695  254.072867\n2006-01-03   1442.53300  164.814173  89.258695  254.072867\n2006-01-04   1457.21700  164.814173  89.258695  254.072867\n2006-01-05   1477.13100  164.814173  89.258695  254.072867\n...                 ...         ...        ...         ...\n2017-12-27   1263.94091  394.507000  16.530000  411.037000\n2017-12-28   1299.86398  506.424000  14.162000  520.586000\n2017-12-29   1295.08753  584.277000  29.854000  614.131000\n2017-12-30   1215.44897  721.247000   7.467000  728.714000\n2017-12-31   1107.11488  721.176000  19.980000  741.156000\n\n[4383 rows x 4 columns]",
      "text/html": "<div>\n<style scoped>\n    .dataframe tbody tr th:only-of-type {\n        vertical-align: middle;\n    }\n\n    .dataframe tbody tr th {\n        vertical-align: top;\n    }\n\n    .dataframe thead th {\n        text-align: right;\n    }\n</style>\n<table border=\"1\" class=\"dataframe\">\n  <thead>\n    <tr style=\"text-align: right;\">\n      <th></th>\n      <th>Consumption</th>\n      <th>Wind</th>\n      <th>Solar</th>\n      <th>Wind+Solar</th>\n    </tr>\n    <tr>\n      <th>Date</th>\n      <th></th>\n      <th></th>\n      <th></th>\n      <th></th>\n    </tr>\n  </thead>\n  <tbody>\n    <tr>\n      <th>2006-01-01</th>\n      <td>1069.18400</td>\n      <td>164.814173</td>\n      <td>89.258695</td>\n      <td>254.072867</td>\n    </tr>\n    <tr>\n      <th>2006-01-02</th>\n      <td>1380.52100</td>\n      <td>164.814173</td>\n      <td>89.258695</td>\n      <td>254.072867</td>\n    </tr>\n    <tr>\n      <th>2006-01-03</th>\n      <td>1442.53300</td>\n      <td>164.814173</td>\n      <td>89.258695</td>\n      <td>254.072867</td>\n    </tr>\n    <tr>\n      <th>2006-01-04</th>\n      <td>1457.21700</td>\n      <td>164.814173</td>\n      <td>89.258695</td>\n      <td>254.072867</td>\n    </tr>\n    <tr>\n      <th>2006-01-05</th>\n      <td>1477.13100</td>\n      <td>164.814173</td>\n      <td>89.258695</td>\n      <td>254.072867</td>\n    </tr>\n    <tr>\n      <th>...</th>\n      <td>...</td>\n      <td>...</td>\n      <td>...</td>\n      <td>...</td>\n    </tr>\n    <tr>\n      <th>2017-12-27</th>\n      <td>1263.94091</td>\n      <td>394.507000</td>\n      <td>16.530000</td>\n      <td>411.037000</td>\n    </tr>\n    <tr>\n      <th>2017-12-28</th>\n      <td>1299.86398</td>\n      <td>506.424000</td>\n      <td>14.162000</td>\n      <td>520.586000</td>\n    </tr>\n    <tr>\n      <th>2017-12-29</th>\n      <td>1295.08753</td>\n      <td>584.277000</td>\n      <td>29.854000</td>\n      <td>614.131000</td>\n    </tr>\n    <tr>\n      <th>2017-12-30</th>\n      <td>1215.44897</td>\n      <td>721.247000</td>\n      <td>7.467000</td>\n      <td>728.714000</td>\n    </tr>\n    <tr>\n      <th>2017-12-31</th>\n      <td>1107.11488</td>\n      <td>721.176000</td>\n      <td>19.980000</td>\n      <td>741.156000</td>\n    </tr>\n  </tbody>\n</table>\n<p>4383 rows × 4 columns</p>\n</div>"
     },
     "execution_count": 30,
     "metadata": {},
     "output_type": "execute_result"
    }
   ],
   "source": [
    "df2"
   ],
   "metadata": {
    "collapsed": false
   }
  },
  {
   "cell_type": "code",
   "execution_count": null,
   "outputs": [],
   "source": [],
   "metadata": {
    "collapsed": false
   }
  }
 ],
 "metadata": {
  "kernelspec": {
   "display_name": "Python 3",
   "language": "python",
   "name": "python3"
  },
  "language_info": {
   "codemirror_mode": {
    "name": "ipython",
    "version": 2
   },
   "file_extension": ".py",
   "mimetype": "text/x-python",
   "name": "python",
   "nbconvert_exporter": "python",
   "pygments_lexer": "ipython2",
   "version": "2.7.6"
  }
 },
 "nbformat": 4,
 "nbformat_minor": 0
}
